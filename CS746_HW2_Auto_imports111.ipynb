{
 "cells": [
  {
   "cell_type": "markdown",
   "id": "a48b00fe",
   "metadata": {},
   "source": [
    "## INSTRUCTIONS \n",
    "\n",
    "Every learner should submit his/her own homework solutions. However, you are allowed to discuss the homework with each other– but everyone must submit his/her own solution; you may not copy someone else’s solution. \n",
    "\n",
    "The homework consists of two parts:\n",
    "1. Data from our lives\t\n",
    "2. Data manipulation/Exploratory Data Analysis\n",
    "3. Multipe regression Analysis\n",
    "\n",
    "Follow the prompts in the attached jupyter notebook. Download the data and place it in your working directory, or modify the path to upload it to your notebook. Add markdown cells to your analysis to include your solutions, comments, answers. **Add as many cells as you need**, for easy readability comment when possible.\n",
    "Hopefully this homework will help you develop skills, make you understand the flow of an EDA, get you ready for individual work.\n",
    "\n",
    "Submission: Send in both a ipynb and a pdf file of your work. \n",
    "\n",
    "Good luck!\n"
   ]
  },
  {
   "cell_type": "markdown",
   "id": "c425df13",
   "metadata": {},
   "source": [
    "## 1. Data from our Lives"
   ]
  },
  {
   "cell_type": "markdown",
   "id": "bb80903a",
   "metadata": {},
   "source": [
    "### Describe a situation or problem from your job, everyday life, current events, etc., for which a regression model would be appropriate. List some (up to 5) predictors that you might use."
   ]
  },
  {
   "cell_type": "markdown",
   "id": "7cecdb5a",
   "metadata": {},
   "source": [
    "**your answer should go here**\n",
    "\n"
   ]
  },
  {
   "cell_type": "markdown",
   "id": "88646bc4",
   "metadata": {},
   "source": [
    "## The data"
   ]
  },
  {
   "cell_type": "markdown",
   "id": "26855a3f",
   "metadata": {},
   "source": [
    "**Title: 1985 Auto Imports Database**\n",
    "\n",
    "Relevant Information:\n",
    "   -- Description\n",
    "      This data set consists of three types of entities: (a) the\n",
    "      specification of an auto in terms of various characteristics, (b)\n",
    "      its assigned insurance risk rating, (c) its normalized losses in use\n",
    "      as compared to other cars.  The second rating corresponds to the\n",
    "      degree to which the auto is more risky than its price indicates.\n",
    "      Cars are initially assigned a risk factor symbol associated with its\n",
    "      price.   Then, if it is more risky (or less), this symbol is\n",
    "      adjusted by moving it up (or down) the scale.  Actuarians call this\n",
    "      process \"symboling\".  A value of +3 indicates that the auto is\n",
    "      risky, -3 that it is probably pretty safe.\n",
    "\n",
    "      The third factor is the relative average loss payment per insured\n",
    "      vehicle year.  This value is normalized for all autos within a\n",
    "      particular size classification (two-door small, station wagons,\n",
    "      sports/speciality, etc...), and represents the average loss per car\n",
    "      per year.\n",
    "\n",
    "   -- Note: Several of the attributes in the database could be used as a\n",
    "            \"class\" attribute.\n",
    "\n",
    "5. Number of Instances: 205\n",
    "\n",
    "6. Number of Attributes: 26 total\n",
    "   -- 15 continuous\n",
    "   -- 1 integer\n",
    "   -- 10 nominal\n",
    "\n",
    "7. Attribute Information:     \n",
    "     Attribute:                Attribute Range:\n",
    "     ------------------        -----------------------------------------------\n",
    "  1. symboling:                -3, -2, -1, 0, 1, 2, 3.\n",
    "  2. normalized-losses:        continuous from 65 to 256.\n",
    "  3. make:                     alfa-romero, audi, bmw, chevrolet, dodge, honda,isuzu, jaguar, mazda, mercedes-benz, mercury, mitsubishi, nissan, peugot, plymouth, porsche, renault, saab, subaru, toyota,volkswagen, volvo\n",
    "  4. fuel-type:                diesel, gas.\n",
    "  5. aspiration:               std, turbo.\n",
    "  6. num-of-doors:             four, two.\n",
    "  7. body-style:               hardtop, wagon, sedan, hatchback, convertible.\n",
    "  8. drive-wheels:             4wd, fwd, rwd.\n",
    "  9. engine-location:          front, rear.\n",
    " 10. wheel-base:               continuous from 86.6 120.9.\n",
    " 11. length:                   continuous from 141.1 to 208.1.\n",
    " 12. width:                    continuous from 60.3 to 72.3.\n",
    " 13. height:                   continuous from 47.8 to 59.8.\n",
    " 14. curb-weight:              continuous from 1488 to 4066.\n",
    " 15. engine-type:              dohc, dohcv, l, ohc, ohcf, ohcv, rotor.\n",
    " 16. num-of-cylinders:         eight, five, four, six, three, twelve, two.\n",
    " 17. engine-size:              continuous from 61 to 326.\n",
    " 18. fuel-system:              1bbl, 2bbl, 4bbl, idi, mfi, mpfi, spdi, spfi.\n",
    " 19. bore:                     continuous from 2.54 to 3.94.\n",
    " 20. stroke:                   continuous from 2.07 to 4.17.\n",
    " 21. compression-ratio:        continuous from 7 to 23.\n",
    " 22. horsepower:               continuous from 48 to 288.\n",
    " 23. peak-rpm:                 continuous from 4150 to 6600.\n",
    " 24. city-mpg:                 continuous from 13 to 49.\n",
    " 25. highway-mpg:              continuous from 16 to 54.\n",
    " 26. price:                    continuous from 5118 to 45400.\n",
    "\n",
    "8. Missing Attribute Values: (denoted by \"?\")"
   ]
  },
  {
   "cell_type": "code",
   "execution_count": null,
   "id": "cd0f90ba",
   "metadata": {},
   "outputs": [],
   "source": [
    "from scipy import stats\n",
    "from sklearn.linear_model import LinearRegression\n",
    "from statsmodels.compat import lzip\n",
    "from statsmodels.formula.api import ols\n",
    "from statsmodels.stats.anova import anova_lm\n",
    "from statsmodels.stats.outliers_influence import variance_inflation_factor\n",
    "import matplotlib\n",
    "import matplotlib.pyplot as plt\n",
    "import numpy as np\n",
    "import pandas as pd\n",
    "import seaborn as sns\n",
    "import statsmodels.api as sm\n",
    "\n",
    "%matplotlib inline"
   ]
  },
  {
   "cell_type": "code",
   "execution_count": null,
   "id": "6b9fa984",
   "metadata": {},
   "outputs": [],
   "source": [
    "#Read in data\n",
    "df =pd.read_csv('auto_imports1.csv')\n",
    "\n",
    "df.head()"
   ]
  },
  {
   "cell_type": "markdown",
   "id": "0612a859",
   "metadata": {},
   "source": [
    "## 2. Data "
   ]
  },
  {
   "cell_type": "markdown",
   "id": "a83025f2",
   "metadata": {},
   "source": [
    "## 2.1 Munging"
   ]
  },
  {
   "cell_type": "markdown",
   "id": "c6609441",
   "metadata": {},
   "source": [
    "Check what types of variables do you have in your data? Do you see anything that doesn't make sense? *Hint: horse power is  an object ?!*"
   ]
  },
  {
   "cell_type": "code",
   "execution_count": null,
   "id": "31653e17",
   "metadata": {},
   "outputs": [],
   "source": [
    "##your code here\n"
   ]
  },
  {
   "cell_type": "markdown",
   "id": "bc82db67",
   "metadata": {},
   "source": [
    "### Replace '?' with None\n",
    "\n",
    "### Change the variables: bore, stroke, horse_power, peak_rpm to float64"
   ]
  },
  {
   "cell_type": "code",
   "execution_count": null,
   "id": "44e48a11",
   "metadata": {},
   "outputs": [],
   "source": [
    "## Your code here\n"
   ]
  },
  {
   "cell_type": "code",
   "execution_count": null,
   "id": "679c62b9",
   "metadata": {},
   "outputs": [],
   "source": [
    "df.info()"
   ]
  },
  {
   "cell_type": "markdown",
   "id": "e3e38f59",
   "metadata": {},
   "source": [
    "### Drop body,engine_type,cylinders columns and name the new dataframe df2"
   ]
  },
  {
   "cell_type": "code",
   "execution_count": null,
   "id": "e376ebf3",
   "metadata": {},
   "outputs": [],
   "source": [
    "## Your code here\n"
   ]
  },
  {
   "cell_type": "code",
   "execution_count": null,
   "id": "2da1338f",
   "metadata": {},
   "outputs": [],
   "source": [
    "df2.head()"
   ]
  },
  {
   "cell_type": "markdown",
   "id": "776b5cda",
   "metadata": {},
   "source": [
    "### Drop all nan values"
   ]
  },
  {
   "cell_type": "code",
   "execution_count": null,
   "id": "be7386d2",
   "metadata": {},
   "outputs": [],
   "source": [
    "## your code goes here"
   ]
  },
  {
   "cell_type": "code",
   "execution_count": null,
   "id": "7d6a861b",
   "metadata": {
    "scrolled": false
   },
   "outputs": [],
   "source": [
    "df2.isnull().sum()"
   ]
  },
  {
   "cell_type": "markdown",
   "id": "077e84ea",
   "metadata": {},
   "source": [
    "### Get dummy variables for fuel_type within df2 drop first level"
   ]
  },
  {
   "cell_type": "code",
   "execution_count": null,
   "id": "6a8862f5",
   "metadata": {},
   "outputs": [],
   "source": [
    "## Your code goes here\n"
   ]
  },
  {
   "cell_type": "code",
   "execution_count": null,
   "id": "0be0d4db",
   "metadata": {},
   "outputs": [],
   "source": [
    "df2.info()"
   ]
  },
  {
   "cell_type": "markdown",
   "id": "671c8e51",
   "metadata": {},
   "source": [
    "## 2.2 EDA on df2"
   ]
  },
  {
   "cell_type": "markdown",
   "id": "8ac7ba3e",
   "metadata": {},
   "source": [
    "Exploratory Data Analysis refers to the critical process of performing initial investigations on data so as to discover patterns,to spot anomalies,to test hypothesis and to check assumptions with the help of summary statistics and graphical representations.\n",
    "\n",
    "Follow the lecture notes for ideas of how to perform EDA on your dataset. For help, here are the steps we talked about:\n",
    "\n",
    "Suggested Steps in EDA:\n",
    "\n",
    "    Provide descriptions of your sample and features\n",
    "    Check for missing data\n",
    "    Identify the shape of your data\n",
    "    Identify significant correlations\n",
    "    Spot/deal with outliers in the dataset\n",
    "\n",
    "These steps are a guidline. Try different things and share your insights about the dataset (**df2**).\n",
    "\n",
    "Don't forget to add \"markdown\" cells to include your findings or to explain what you are doing\n"
   ]
  },
  {
   "cell_type": "code",
   "execution_count": null,
   "id": "71708d38",
   "metadata": {},
   "outputs": [],
   "source": [
    "## Your EDA should start here\n"
   ]
  },
  {
   "cell_type": "markdown",
   "id": "77fabed2",
   "metadata": {},
   "source": [
    "## 3. Multiple Regression Analysis ! Use the df2 dataset!"
   ]
  },
  {
   "cell_type": "markdown",
   "id": "f56943b0",
   "metadata": {},
   "source": [
    "**1. Create a model that uses all the variables** and call it model1. The dependent variable is price, the independent variables are all the rest. Print out a summary of the model (coefficents, stanrard errors, confidence intervals and other metrics shown in class and answer the quesions based on your output."
   ]
  },
  {
   "cell_type": "code",
   "execution_count": null,
   "id": "680d7827",
   "metadata": {},
   "outputs": [],
   "source": [
    "##Your code goes here"
   ]
  },
  {
   "cell_type": "markdown",
   "id": "e0f4ad5e",
   "metadata": {},
   "source": [
    "1. How do you interpret the intercept?\n",
    "2. How many variables are statistically significant?\n",
    "3. What is the variance of the model?\n",
    "4. What is the coefficeint of determination and how do you interpret it?\n",
    "5. What is the F-statistics used for? How do you interpret it for this model?"
   ]
  },
  {
   "cell_type": "markdown",
   "id": "2f6bde01",
   "metadata": {},
   "source": [
    "**2. Drop all the variables that are not statistically significant** at least at 90% confidence level. Run another regression model with price as the dependent variable and the rest of the variables as the independent variabls. Call it model2. Print a summary of the results and answer the questions bellow. "
   ]
  },
  {
   "cell_type": "code",
   "execution_count": null,
   "id": "2b75cc92",
   "metadata": {},
   "outputs": [],
   "source": [
    "## your code goes here\n"
   ]
  },
  {
   "cell_type": "markdown",
   "id": "226123c0",
   "metadata": {},
   "source": [
    "1. How do you interpret the intercept?\n",
    "2. How many variables are statistically significant?\n",
    "3. What is the variance of the model?\n",
    "4. What is the coefficeint of determination and how do you interpret it? What is the Adjusted R-squared and compare it to the model1's value. \n",
    "5. What is the F-statistics used for? How do you interpret it for this model?"
   ]
  },
  {
   "cell_type": "markdown",
   "id": "994a73f8",
   "metadata": {},
   "source": [
    "**3. Compare the two models with ANOVA**. What are your null and alternative hypothesis? What is your conclusion?"
   ]
  },
  {
   "cell_type": "code",
   "execution_count": null,
   "id": "89ff4f32",
   "metadata": {},
   "outputs": [],
   "source": [
    "##your code goes here\n"
   ]
  },
  {
   "cell_type": "markdown",
   "id": "65dbf4e5",
   "metadata": {},
   "source": [
    "**4.Checking the assumptions:**\n",
    "\n",
    "-What are the assumptions?\n",
    "\n",
    "-Do they hold?"
   ]
  },
  {
   "cell_type": "code",
   "execution_count": null,
   "id": "a3960878",
   "metadata": {},
   "outputs": [],
   "source": [
    "##your code goes here"
   ]
  },
  {
   "cell_type": "markdown",
   "id": "6a1fa97f",
   "metadata": {},
   "source": [
    "**5. Is there Multicollinearity in your data?**"
   ]
  },
  {
   "cell_type": "code",
   "execution_count": null,
   "id": "2df0526c",
   "metadata": {},
   "outputs": [],
   "source": [
    "##your code goes here"
   ]
  },
  {
   "cell_type": "code",
   "execution_count": null,
   "id": "99bc50ea",
   "metadata": {},
   "outputs": [],
   "source": []
  }
 ],
 "metadata": {
  "kernelspec": {
   "display_name": "Python 3 (ipykernel)",
   "language": "python",
   "name": "python3"
  },
  "language_info": {
   "codemirror_mode": {
    "name": "ipython",
    "version": 3
   },
   "file_extension": ".py",
   "mimetype": "text/x-python",
   "name": "python",
   "nbconvert_exporter": "python",
   "pygments_lexer": "ipython3",
   "version": "3.9.7"
  }
 },
 "nbformat": 4,
 "nbformat_minor": 5
}
